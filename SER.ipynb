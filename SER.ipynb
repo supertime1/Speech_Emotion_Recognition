{
  "nbformat": 4,
  "nbformat_minor": 0,
  "metadata": {
    "colab": {
      "name": "SER.ipynb",
      "provenance": [],
      "collapsed_sections": [],
      "machine_shape": "hm",
      "mount_file_id": "166O_5dPfinB_plh6m5TFWPKTAeMRj4xF",
      "authorship_tag": "ABX9TyPek3NP8Dnkh1H4cvyE3p2/",
      "include_colab_link": true
    },
    "kernelspec": {
      "name": "python3",
      "display_name": "Python 3"
    },
    "language_info": {
      "name": "python"
    },
    "accelerator": "GPU"
  },
  "cells": [
    {
      "cell_type": "markdown",
      "metadata": {
        "id": "view-in-github",
        "colab_type": "text"
      },
      "source": [
        "<a href=\"https://colab.research.google.com/github/supertime1/Speech_Emotion_Recognition/blob/main/SER.ipynb\" target=\"_parent\"><img src=\"https://colab.research.google.com/assets/colab-badge.svg\" alt=\"Open In Colab\"/></a>"
      ]
    },
    {
      "cell_type": "markdown",
      "metadata": {
        "id": "Z193_DWlz0ZH"
      },
      "source": [
        "#1. Import dependencies"
      ]
    },
    {
      "cell_type": "code",
      "metadata": {
        "id": "YNm1UyJzjo9T"
      },
      "source": [
        "import os\n",
        "os.chdir('C:/Users/57lzhang.US04WW4008/PycharmProjects/Speech_Emotion_Recognition')\n",
        "from data_handler import *\n",
        "from audio_processor import AudioProcessor\n",
        "import tensorflow as tf\n",
        "import librosa.display\n",
        "import matplotlib.pyplot as plt\n",
        "import sklearn\n",
        "from tensorflow.keras import Model\n",
        "from tensorflow.keras.layers import Conv2D, Conv1D, BatchNormalization, Input, Add, Activation, \\\n",
        "    MaxPooling1D, Dropout, Flatten, TimeDistributed, Bidirectional, Dense, LSTM, ZeroPadding1D, \\\n",
        "    AveragePooling1D, GlobalAveragePooling1D, Concatenate, Permute, Dot, Multiply, RepeatVector, \\\n",
        "    Lambda, Average, GlobalAveragePooling2D, DepthwiseConv2D, MaxPooling2D, ZeroPadding2D"
      ],
      "execution_count": null,
      "outputs": []
    },
    {
      "cell_type": "code",
      "metadata": {
        "id": "LgbXiOYG8dJe",
        "colab": {
          "base_uri": "https://localhost:8080/"
        },
        "outputId": "beb751d0-de01-47e8-92a7-8da0c100206d"
      },
      "source": [
        " ##to overwrite NCCL cross device communication as this is running in Windows\n",
        "strategy = tf.distribute.MirroredStrategy(cross_device_ops=tf.distribute.HierarchicalCopyAllReduce())"
      ],
      "execution_count": null,
      "outputs": [
        {
          "output_type": "stream",
          "text": [
            "INFO:tensorflow:Using MirroredStrategy with devices ('/job:localhost/replica:0/task:0/device:GPU:0', '/job:localhost/replica:0/task:0/device:GPU:1')\n"
          ],
          "name": "stdout"
        }
      ]
    },
    {
      "cell_type": "markdown",
      "metadata": {
        "id": "GsSU69jljuFN"
      },
      "source": [
        "# Test with speech recognition data"
      ]
    },
    {
      "cell_type": "code",
      "metadata": {
        "id": "PyDtbDlupxJV"
      },
      "source": [
        "import os\n",
        "import numpy as np\n",
        "import librosa\n",
        "import tensorflow as tf\n",
        "import argparse\n",
        "import soundfile as sf\n",
        "import glob\n",
        "\n",
        "\"\"\"\n",
        "Notes:\n",
        "1. In oder to use DataHandler, the data should be stored as db_name/raw_data.\n",
        "For example, RAVDESS raw data should be stored as RAVDESS/raw_data/Actor_01/*.wav;\n",
        "EMODB raw data should be stored as EMODB/raw_data/*.wav;\n",
        "2. functions with name that end with _tensor are for building tensorflow graphs purpose;\n",
        "for standard python operation, use the non-tensor counterparts \n",
        "\"\"\"\n",
        "\n",
        "\n",
        "class DataHandlers:\n",
        "\n",
        "    def __init__(self, raw_data_path: str, train_ratio: float, val_ratio: float, res_freq: int,\n",
        "                 block_span: int, stride_span: int, random_seed: int, db_name: str):\n",
        "        self.raw_data_path = raw_data_path\n",
        "        self.train_ratio = train_ratio\n",
        "        self.val_ratio = val_ratio\n",
        "        self.res_freq = res_freq\n",
        "        self.block_span = block_span\n",
        "        self.stride_span = stride_span\n",
        "        self.random_seed = random_seed\n",
        "        self.fn_dic = {}\n",
        "        self.train_fn_dic = {}\n",
        "        self.val_fn_dic = {}\n",
        "        self.test_fn_dic = {}\n",
        "        self.db_name = db_name\n",
        "        self._create_block_fn()\n",
        "\n",
        "    def _create_block_fn(self):\n",
        "        \"\"\"\n",
        "        :return: generators and dictionaries containing train, validation and test data\n",
        "        \"\"\"\n",
        "        if self.db_name == 'RAVDESS':\n",
        "            # e.g. folder: Actor_01\n",
        "            for folder in os.listdir(self.raw_data_path):\n",
        "                # e.g. data_path: data/Actor_01\n",
        "                data_path = os.path.join(self.raw_data_path, folder)\n",
        "                fn_lst = os.listdir(data_path)\n",
        "                for idx in range(len(fn_lst)):\n",
        "                    # e.g. fn_path: data/Actor_01/03-01-01-01-01-01-02.wav\n",
        "                    fn_path = os.path.join(data_path, fn_lst[idx])\n",
        "                    label = int(fn_lst[idx][6:8]) - 1\n",
        "                    if label not in self.fn_dic:\n",
        "                        self.fn_dic[label] = [fn_path]\n",
        "                    else:\n",
        "                        self.fn_dic[label].append(fn_path)\n",
        "                # fn_dic is created to be {'00':[*.wav], '01':[*.wav], ...}\n",
        "\n",
        "                for label, fn_lst in self.fn_dic.items():\n",
        "                    np.random.seed(seed=self.random_seed)\n",
        "                    np.random.shuffle(fn_lst)\n",
        "                    self.val_fn_dic[label] = fn_lst[:int(self.train_ratio * self.val_ratio * len(fn_lst))]\n",
        "                    self.train_fn_dic[label] = fn_lst[int(self.train_ratio * self.val_ratio * len(fn_lst)):\n",
        "                                                      int(self.train_ratio * len(fn_lst))]\n",
        "                    self.test_fn_dic[label] = fn_lst[int(self.train_ratio * len(fn_lst)):]\n",
        "\n",
        "        if self.db_name == 'EMODB':\n",
        "            for fn in os.listdir(self.raw_data_path):\n",
        "                fn_path = os.path.join(self.raw_data_path, fn)\n",
        "                # W: anger; L: boredom; E: disgust; A: anxiety/fear; F: happiness; T: sadness;\n",
        "                # N: neutral\n",
        "                conversion_dict = {'W': 0, 'L': 1, 'E': 2, 'A': 3,\n",
        "                                   'F': 4, 'T': 5, 'N': 6}\n",
        "                label = conversion_dict[fn[5]]\n",
        "                if label not in self.fn_dic:\n",
        "                    self.fn_dic[label] = [fn_path]\n",
        "                else:\n",
        "                    self.fn_dic[label].append(fn_path)\n",
        "\n",
        "            for label, fn_lst in self.fn_dic.items():\n",
        "                np.random.seed(seed=self.random_seed)\n",
        "                np.random.shuffle(fn_lst)\n",
        "                self.val_fn_dic[label] = fn_lst[:int(self.train_ratio * self.val_ratio * len(fn_lst))]\n",
        "                self.train_fn_dic[label] = fn_lst[int(self.train_ratio * self.val_ratio * len(fn_lst)):\n",
        "                                                  int(self.train_ratio * len(fn_lst))]\n",
        "                self.test_fn_dic[label] = fn_lst[int(self.train_ratio * len(fn_lst)):]\n",
        "\n",
        "    def create_label_folder(self):\n",
        "        self._convert_to_block(self.train_fn_dic, 'train')\n",
        "        self._convert_to_block(self.val_fn_dic, 'val')\n",
        "        self._convert_to_block(self.test_fn_dic, 'test')\n",
        "\n",
        "        # if do_train_val_split:\n",
        "        #   val_path = os.path.join('data', 'val')\n",
        "        #   if not os.path.exists(val_path):\n",
        "        #       os.mkdir(val_path)\n",
        "        #   train_path = os.path.join('data', 'train')\n",
        "        #   for label_path in os.listdir(train_path):\n",
        "        #       # e.g. train_label_path: data/train/0/\n",
        "        #       train_label_path = os.path.join(train_path, label_path, '*.wav')\n",
        "        #       fn_lst = glob.glob(train_label_path)\n",
        "\n",
        "    #\n",
        "    #       np.random.seed(seed=self.random_seed)\n",
        "    #       np.random.shuffle(fn_lst)\n",
        "    #       val_fn_lst = fn_lst[:int(len(fn_lst) * self.val_ratio)]\n",
        "    #       target_val_fn_path = os.path.join(val_path, label_path)\n",
        "    #       if not os.path.exists(target_val_fn_path):\n",
        "    #           os.mkdir(target_val_fn_path)\n",
        "    #       for val_fn in val_fn_lst:\n",
        "    #           parts = val_fn.split(os.path.sep)\n",
        "    #           wav_fn = parts[-1]\n",
        "    #           shutil.move(val_fn, os.path.join(target_val_fn_path, wav_fn))\n",
        "\n",
        "    def _convert_to_block(self, name_fn_dic, name):\n",
        "        # e.g. data_root: RAVDESS/data\n",
        "        data_root = os.path.join(self.db_name, 'data')\n",
        "        if not os.path.exists(data_root):\n",
        "            os.mkdir(data_root)\n",
        "\n",
        "        print(f'\\nCreating {name} data...')\n",
        "        # e.g. name_path: RVDESS/data/train\n",
        "        name_path = os.path.join(data_root, name)\n",
        "        if not os.path.exists(name_path):\n",
        "            os.mkdir(name_path)\n",
        "\n",
        "        # e.g. fn_lst: [RAVDESS/raw_data/Actor_01/03-01-01-01-01-01-02.wav, data/Actor_02/*.wav, ...]\n",
        "        for label, fn_lst in name_fn_dic.items():\n",
        "            print(f'\\nProcessing {name} label {label}..')\n",
        "            # e.g. label_folder_path: RAVDESS/data/train/0\n",
        "            label_folder_path = os.path.join(name_path, str(label))\n",
        "            if not os.path.exists(label_folder_path):\n",
        "                os.mkdir(label_folder_path)\n",
        "            for i in range(len(fn_lst)):\n",
        "                if i % 10 == 0:\n",
        "                    print(f'working on {i}th file')\n",
        "                y, sr = librosa.load(fn_lst[i], sr=self.res_freq)\n",
        "                signal, _ = librosa.effects.trim(y)\n",
        "                block_len = self.res_freq * self.block_span\n",
        "                stride_len = int(self.res_freq * self.stride_span / 1000)\n",
        "                for j in range(0, len(signal), stride_len):\n",
        "                    if j + block_len > len(signal):\n",
        "                        break\n",
        "                    block_signal = signal[i:i + block_len]\n",
        "                    parts = fn_lst[i].split(os.path.sep)\n",
        "                    sf.write(label_folder_path + '/' + parts[-1][:-4] + '_' + str(j) + '.wav',\n",
        "                             block_signal, self.res_freq)\n",
        "\n",
        "    def calculate_mean_std(self):\n",
        "        \"\"\"\n",
        "        Calculate the mean and standard deviation of the train audio waveform,\n",
        "        this will be useful to normalize the input data to the model\n",
        "        \"\"\"\n",
        "        def waveform_generator(filename_dic: dict):\n",
        "            for _, fn_lst in filename_dic.items():\n",
        "                for fn in fn_lst:\n",
        "                    signal, _ = librosa.load(fn, sr=None)\n",
        "                    yield signal\n",
        "\n",
        "        signals = waveform_generator(self.train_fn_dic)\n",
        "        n = 0\n",
        "        # need to record both E(x) and E(x**2) to calculate Variance (aka. std**2)\n",
        "        Sum = square_Sum = 0\n",
        "        for signal in signals:\n",
        "            Sum += np.sum(signal)\n",
        "            square_signal = np.square(signal)\n",
        "            square_Sum += np.sum(square_signal)\n",
        "            n += len(signal)\n",
        "\n",
        "        mean = Sum / n\n",
        "        square_mean = square_Sum / n\n",
        "        # Var(X) = E(X**2) - E(X)**2\n",
        "        std = np.sqrt(square_mean - mean ** 2)\n",
        "        return mean, std\n",
        "\n",
        "    @staticmethod\n",
        "    def get_waveform_and_label(file_path):\n",
        "        parts = file_path.split(os.path.sep)\n",
        "        label = int(parts[-2])\n",
        "        waveform, _ = librosa.load(file_path, sr=None)\n",
        "        return waveform, label\n",
        "\n",
        "    def get_waveform_and_label_tensor(self, file_path):\n",
        "        parts = tf.strings.split(file_path, os.path.sep)\n",
        "        label = tf.strings.to_number(parts[-2], out_type=tf.float32)\n",
        "        #label = tf.one_hot(label, 7)\n",
        "        audio_binary = tf.io.read_file(file_path)\n",
        "        waveform, _ = tf.audio.decode_wav(audio_binary)\n",
        "        waveform = tf.reshape(waveform, [self.block_span * self.res_freq])\n",
        "        return waveform, label\n",
        "\n",
        "    @staticmethod\n",
        "    def get_filenames(data_dir):\n",
        "        filenames = glob.glob(str(data_dir) + '/*/*')\n",
        "        np.random.shuffle(filenames)\n",
        "        num_samples = len(filenames)\n",
        "        print('Number of total examples:', num_samples)\n",
        "        print('Example file:', filenames[:20])\n",
        "        return filenames, num_samples\n",
        "\n",
        "    @staticmethod\n",
        "    def get_filenames_tensor(data_dir):\n",
        "        filenames = tf.io.gfile.glob(str(data_dir) + '/*/*')\n",
        "        filenames = tf.random.shuffle(filenames)\n",
        "        num_samples = len(filenames)\n",
        "        print('Number of total examples:', num_samples)\n",
        "        print('Example file tensor:', filenames[:20])\n",
        "        return filenames, num_samples\n",
        "\n",
        "    def count_label(self):\n",
        "        def _count_labels_from_raw_file(dic):\n",
        "            for label, fn_lst in dic.items():\n",
        "                print(f'There are {len(fn_lst)} files with label {label}')\n",
        "\n",
        "        def _count_block_labels(name: str):\n",
        "            # e.g. path: 'EMODB/data/train'\n",
        "            path = os.path.join(self.db_name, 'data', name)\n",
        "            filenames = glob.glob(path + '/*/*')\n",
        "            total_num_blocks = len(filenames)\n",
        "            print(f'There are in total {total_num_blocks} {self.block_span}s blocks')\n",
        "            for root, labels, _ in os.walk(path):\n",
        "                for label in labels:\n",
        "                    file_path = os.path.join(root, label)\n",
        "                    for _, _, files in os.walk(file_path):\n",
        "                        print(f'There are {round(len(files) / total_num_blocks, 2) * 100}% '\n",
        "                              f'files with label {label}')\n",
        "\n",
        "        print('\\nRAW wav files analysis:')\n",
        "        print('\\nIn raw dataset:')\n",
        "        _count_labels_from_raw_file(self.fn_dic)\n",
        "        print('\\nIn training raw dataset:')\n",
        "        _count_labels_from_raw_file(self.train_fn_dic)\n",
        "        print('\\nIn validation raw dataset:')\n",
        "        _count_labels_from_raw_file(self.val_fn_dic)\n",
        "        print('\\nIn testing rwa dataset:')\n",
        "        _count_labels_from_raw_file(self.test_fn_dic)\n",
        "\n",
        "        print('\\n\\n\\n Block prospect analysis:')\n",
        "        print('\\nIn training block dataset:')\n",
        "        _count_block_labels('train')\n",
        "        print('\\nIn validation block dataset:')\n",
        "        _count_block_labels('val')\n",
        "        print('\\nIn testing block dataset:')\n",
        "        _count_block_labels('test')\n",
        "    \n",
        "        return [_ for _ in self.fn_dic.keys()]\n",
        "\n",
        "    # TODO: add functions to analyze data feature distributions, and label counts\n",
        "    # Will rely on audio_processor's feature extraction functions\n",
        "    def data_feature_analysis(self):\n",
        "        pass"
      ],
      "execution_count": null,
      "outputs": []
    },
    {
      "cell_type": "code",
      "metadata": {
        "id": "5g0PwbPUpp0j"
      },
      "source": [
        "class AudioProcessors:\n",
        "    def __init__(self, sample_freq, slice_span, overlap_ratio, n_mels, snr):\n",
        "        self.sample_freq = sample_freq\n",
        "        self.slice_span = slice_span\n",
        "        self.overlap_ratio = overlap_ratio\n",
        "        self.n_mels = n_mels\n",
        "        self.snr = snr\n",
        "\n",
        "    @property\n",
        "    def n_per_seg(self):\n",
        "        return int(self.slice_span / 1000 * self.sample_freq)\n",
        "\n",
        "    @property\n",
        "    def n_fft(self):\n",
        "        return int(pow(2, np.ceil(np.log(self.n_per_seg) / np.log(2))))\n",
        "\n",
        "    @property\n",
        "    def hop_length(self):\n",
        "        return int(self.n_fft * (1 - self.overlap_ratio))\n",
        "\n",
        "    def add_additive_white_gaussian_noise(self, data, label):\n",
        "        rms_signal = math.sqrt(np.mean(data ** 2))\n",
        "        std_noise = abs(rms_signal) / math.sqrt(10 ** (self.snr / 10))\n",
        "        noise = np.random.normal(0, std_noise, data.shape[0])\n",
        "        data = data + noise\n",
        "        return data, label\n",
        "\n",
        "    def get_add_additive_white_gaussian_noise_tensor(self, data, label):\n",
        "        data, label = tf.py_function(self.add_additive_white_gaussian_noise,\n",
        "                                     inp=[data, label],\n",
        "                                     Tout=[tf.float32, tf.float32])\n",
        "        data.set_shape(data.shape)\n",
        "        return data, label\n",
        "\n",
        "    def spectrogram(self, data, label):\n",
        "        spec = np.abs(librosa.stft(np.asarray(data), n_fft=self.n_fft,\n",
        "                                   hop_length=self.hop_length))\n",
        "        return spec, label\n",
        "\n",
        "    def get_spectrogram_tensor(self, data, label):\n",
        "        spectrogram, label = tf.py_function(self.spectrogram, inp=[data, label],\n",
        "                                            Tout=[tf.float32, tf.int64])\n",
        "        spectrogram = tf.expand_dims(spectrogram, -1)\n",
        "\n",
        "        spectrogram.set_shape(spectrogram.shape)\n",
        "        return spectrogram, label\n",
        "\n",
        "    def mel_spectrogram(self, data, label):\n",
        "        mel_spec = librosa.feature.melspectrogram(np.asarray(data),\n",
        "                                                  sr=self.sample_freq,\n",
        "                                                  n_fft=self.n_fft,\n",
        "                                                  hop_length=self.hop_length,\n",
        "                                                  n_mels=self.n_mels)\n",
        "        return mel_spec, label\n",
        "\n",
        "    def get_mel_tensor(self, data, label):\n",
        "        mel_spec, label = tf.py_function(self.mel_spectrogram, inp=[data, label],\n",
        "                                         Tout=[tf.float32, tf.int64])\n",
        "        mel_spec = tf.expand_dims(mel_spec, -1)\n",
        "\n",
        "        mel_spec.set_shape(mel_spec.shape)\n",
        "        return mel_spec, label"
      ],
      "execution_count": null,
      "outputs": []
    },
    {
      "cell_type": "code",
      "metadata": {
        "id": "EFXe7h63qB1b"
      },
      "source": [
        "# import data generator\n",
        "raw_data_path = 'EMODB/raw_data'\n",
        "train_ratio = 0.9\n",
        "val_ratio = 0.1\n",
        "block_span = 1 # second\n",
        "stride_span = 10 # millisecond\n",
        "res_freq = 16000\n",
        "random_seed = 10\n",
        "db_name = 'EMODB'\n",
        "\n",
        "data_handler = DataHandlers(raw_data_path, train_ratio, val_ratio, \n",
        "                        res_freq, block_span, stride_span, random_seed,\n",
        "                        db_name)\n",
        "\n",
        "sample_freq = res_freq\n",
        "slice_span = 16 # millisecond\n",
        "overlap_ratio = 3/4\n",
        "n_mels = 64\n",
        "snr = 20\n",
        "audio_processor = AudioProcessors(sample_freq, slice_span, overlap_ratio, n_mels, snr)"
      ],
      "execution_count": null,
      "outputs": []
    },
    {
      "cell_type": "code",
      "metadata": {
        "id": "Z8PKWGGAjcs9"
      },
      "source": [
        "import pathlib\n",
        "\n",
        "data_dir = pathlib.Path('data/mini_speech_commands')\n",
        "if not data_dir.exists():\n",
        "  tf.keras.utils.get_file(\n",
        "      'mini_speech_commands.zip',\n",
        "      origin=\"http://storage.googleapis.com/download.tensorflow.org/data/mini_speech_commands.zip\",\n",
        "      extract=True,\n",
        "      cache_dir='.', cache_subdir='data')"
      ],
      "execution_count": null,
      "outputs": []
    },
    {
      "cell_type": "code",
      "metadata": {
        "id": "vl2NIunWj84g",
        "colab": {
          "base_uri": "https://localhost:8080/"
        },
        "outputId": "a4df7cd7-7174-4710-8bfc-26ab07037b32"
      },
      "source": [
        "commands = np.array(tf.io.gfile.listdir(str(data_dir)))\n",
        "commands = commands[commands != 'README.md']\n",
        "print('Commands:', commands)"
      ],
      "execution_count": null,
      "outputs": [
        {
          "output_type": "stream",
          "text": [
            "Commands: ['down' 'go' 'left' 'no' 'right' 'stop' 'up' 'yes']\n"
          ],
          "name": "stdout"
        }
      ]
    },
    {
      "cell_type": "code",
      "metadata": {
        "id": "QD8A_x38kBG_",
        "colab": {
          "base_uri": "https://localhost:8080/"
        },
        "outputId": "bead9ebe-b0ed-4782-9abf-b7e185466a6a"
      },
      "source": [
        "filenames, num_samples = data_handler.get_filenames_tensor(data_dir)"
      ],
      "execution_count": null,
      "outputs": [
        {
          "output_type": "stream",
          "text": [
            "Number of total examples: 8000\n",
            "Example file tensor: tf.Tensor(\n",
            "[b'data\\\\mini_speech_commands\\\\left\\\\338dacf5_nohash_1.wav'\n",
            " b'data\\\\mini_speech_commands\\\\up\\\\cb2929ce_nohash_1.wav'\n",
            " b'data\\\\mini_speech_commands\\\\stop\\\\24ed94ab_nohash_2.wav'\n",
            " b'data\\\\mini_speech_commands\\\\no\\\\5628d7b7_nohash_1.wav'\n",
            " b'data\\\\mini_speech_commands\\\\no\\\\c84f9b5c_nohash_0.wav'\n",
            " b'data\\\\mini_speech_commands\\\\down\\\\742d6431_nohash_0.wav'\n",
            " b'data\\\\mini_speech_commands\\\\go\\\\ab76ac76_nohash_0.wav'\n",
            " b'data\\\\mini_speech_commands\\\\left\\\\c22d3f18_nohash_3.wav'\n",
            " b'data\\\\mini_speech_commands\\\\no\\\\ac7840d8_nohash_1.wav'\n",
            " b'data\\\\mini_speech_commands\\\\left\\\\c120e80e_nohash_2.wav'\n",
            " b'data\\\\mini_speech_commands\\\\yes\\\\9a4d12fd_nohash_1.wav'\n",
            " b'data\\\\mini_speech_commands\\\\yes\\\\93ec8b84_nohash_0.wav'\n",
            " b'data\\\\mini_speech_commands\\\\up\\\\8ec6dab6_nohash_0.wav'\n",
            " b'data\\\\mini_speech_commands\\\\stop\\\\c0fb6812_nohash_0.wav'\n",
            " b'data\\\\mini_speech_commands\\\\go\\\\28ce0c58_nohash_2.wav'\n",
            " b'data\\\\mini_speech_commands\\\\yes\\\\4f2ab70c_nohash_4.wav'\n",
            " b'data\\\\mini_speech_commands\\\\left\\\\e1469561_nohash_2.wav'\n",
            " b'data\\\\mini_speech_commands\\\\go\\\\2da58b32_nohash_0.wav'\n",
            " b'data\\\\mini_speech_commands\\\\right\\\\ac899eb7_nohash_0.wav'\n",
            " b'data\\\\mini_speech_commands\\\\no\\\\fb9d6d23_nohash_0.wav'], shape=(20,), dtype=string)\n"
          ],
          "name": "stdout"
        }
      ]
    },
    {
      "cell_type": "code",
      "metadata": {
        "id": "o9p6C6xtkUsH",
        "colab": {
          "base_uri": "https://localhost:8080/"
        },
        "outputId": "9734c37c-e472-4174-f2d5-072f7d2312e5"
      },
      "source": [
        "train_files = filenames[:6400]\n",
        "val_files = filenames[6400: 6400 + 800]\n",
        "test_files = filenames[-800:]\n",
        "\n",
        "print('Training set size', len(train_files))\n",
        "print('Validation set size', len(val_files))\n",
        "print('Test set size', len(test_files))"
      ],
      "execution_count": null,
      "outputs": [
        {
          "output_type": "stream",
          "text": [
            "Training set size 6400\n",
            "Validation set size 800\n",
            "Test set size 800\n"
          ],
          "name": "stdout"
        }
      ]
    },
    {
      "cell_type": "code",
      "metadata": {
        "id": "i6NCSkz8OBxw"
      },
      "source": [
        "def decode_audio(audio_binary):\n",
        "  audio, _ = tf.audio.decode_wav(audio_binary)\n",
        "  return tf.squeeze(audio, axis=-1)\n",
        "\n",
        "def get_label(file_path):\n",
        "  parts = tf.strings.split(file_path, os.path.sep)\n",
        "\n",
        "  # Note: You'll use indexing here instead of tuple unpacking to enable this \n",
        "  # to work in a TensorFlow graph.\n",
        "  return parts[-2]\n",
        "\n",
        "def get_waveform_and_label(file_path):\n",
        "  label = get_label(file_path)\n",
        "  label_id = tf.argmax(label == commands)\n",
        "  audio_binary = tf.io.read_file(file_path)\n",
        "  waveform = decode_audio(audio_binary)\n",
        "  zero_padding = tf.zeros([16000] - tf.shape(waveform), dtype=tf.float32)\n",
        "\n",
        "  # Concatenate audio with padding so that all audio clips will be of the \n",
        "  # same length\n",
        "  waveform = tf.cast(waveform, tf.float32)\n",
        "  equal_length = tf.concat([waveform, zero_padding], 0)\n",
        "  return equal_length, label_id"
      ],
      "execution_count": null,
      "outputs": []
    },
    {
      "cell_type": "code",
      "metadata": {
        "id": "MWQwSMSJ2xx1"
      },
      "source": [
        "def preprocess_dataset(files):\n",
        "    files_ds = tf.data.Dataset.from_tensor_slices(files)\n",
        "    output_ds = files_ds.map(get_waveform_and_label,\n",
        "                             num_parallel_calls=tf.data.experimental.AUTOTUNE)\n",
        "    output_ds = output_ds.map(audio_processor.get_mel_tensor,\n",
        "                                num_parallel_calls=tf.data.experimental.AUTOTUNE)\n",
        "    return output_ds"
      ],
      "execution_count": null,
      "outputs": []
    },
    {
      "cell_type": "code",
      "metadata": {
        "id": "MqCaS0E120Eg"
      },
      "source": [
        "batch_size = 64\n",
        "train_ds = preprocess_dataset(train_files)\n",
        "spectrogram_ds = train_ds\n",
        "val_ds = preprocess_dataset(val_files)\n",
        "train_ds = train_ds.batch(batch_size)\n",
        "val_ds = val_ds.batch(batch_size)\n",
        "train_ds = train_ds.cache().prefetch(tf.data.experimental.AUTOTUNE)\n",
        "val_ds = val_ds.cache().prefetch(tf.data.experimental.AUTOTUNE)"
      ],
      "execution_count": null,
      "outputs": []
    },
    {
      "cell_type": "code",
      "metadata": {
        "id": "0Rubbu50K7Lm"
      },
      "source": [
        "# calculate the input shape, which is needed to initialize keras model\n",
        "sample_data = np.random.rand((block_span * res_freq))\n",
        "sample_mel, _ = audio_processor.mel_spectrogram(sample_data, 1)\n",
        "sample_mel = np.expand_dims(sample_mel, -1)\n",
        "input_shape = sample_mel.shape"
      ],
      "execution_count": null,
      "outputs": []
    },
    {
      "cell_type": "code",
      "metadata": {
        "id": "H8rMGY_cLAh-",
        "colab": {
          "base_uri": "https://localhost:8080/"
        },
        "outputId": "21741dd9-c8d5-4b07-ae84-45e571f3ea82"
      },
      "source": [
        "input_shape"
      ],
      "execution_count": null,
      "outputs": [
        {
          "output_type": "execute_result",
          "data": {
            "text/plain": [
              "(64, 251, 1)"
            ]
          },
          "metadata": {
            "tags": []
          },
          "execution_count": 18
        }
      ]
    },
    {
      "cell_type": "code",
      "metadata": {
        "id": "USlYOH-NKT7Z",
        "colab": {
          "base_uri": "https://localhost:8080/"
        },
        "outputId": "824429f0-4111-4fa7-e83f-40a844e60311"
      },
      "source": [
        "from tensorflow.keras.layers.experimental import preprocessing\n",
        "from tensorflow.keras import models\n",
        "from tensorflow.keras import layers\n",
        "num_labels = len(commands)\n",
        "\n",
        "norm_layer = preprocessing.Normalization()\n",
        "norm_layer.adapt(spectrogram_ds.map(lambda x, _: x))\n",
        "\n",
        "model = models.Sequential([\n",
        "    layers.Input(shape=input_shape),\n",
        "    preprocessing.Resizing(32, 32),\n",
        "    norm_layer,\n",
        "    layers.Conv2D(32, 3, activation='relu'),\n",
        "    layers.Conv2D(64, 3, activation='relu'),\n",
        "    layers.MaxPooling2D(),\n",
        "    layers.Dropout(0.25),\n",
        "    layers.Flatten(),\n",
        "    layers.Dense(128, activation='relu'),\n",
        "    layers.Dropout(0.5),\n",
        "    layers.Dense(num_labels),\n",
        "])\n",
        "\n",
        "model.summary()\n",
        "\n",
        "model.compile(\n",
        "    optimizer=tf.keras.optimizers.Adam(),\n",
        "    loss=tf.keras.losses.SparseCategoricalCrossentropy(from_logits=True),\n",
        "    metrics=[tf.keras.metrics.SparseCategoricalAccuracy()],\n",
        ")\n",
        "\n",
        "EPOCHS = 30\n",
        "history = model.fit(\n",
        "    train_ds, \n",
        "    validation_data=val_ds,  \n",
        "    epochs=EPOCHS,\n",
        ")"
      ],
      "execution_count": null,
      "outputs": [
        {
          "output_type": "stream",
          "text": [
            "Model: \"sequential_1\"\n",
            "_________________________________________________________________\n",
            "Layer (type)                 Output Shape              Param #   \n",
            "=================================================================\n",
            "resizing_1 (Resizing)        (None, 32, 32, 1)         0         \n",
            "_________________________________________________________________\n",
            "normalization_1 (Normalizati (None, 32, 32, 1)         3         \n",
            "_________________________________________________________________\n",
            "conv2d_2 (Conv2D)            (None, 30, 30, 32)        320       \n",
            "_________________________________________________________________\n",
            "conv2d_3 (Conv2D)            (None, 28, 28, 64)        18496     \n",
            "_________________________________________________________________\n",
            "max_pooling2d_1 (MaxPooling2 (None, 14, 14, 64)        0         \n",
            "_________________________________________________________________\n",
            "dropout_2 (Dropout)          (None, 14, 14, 64)        0         \n",
            "_________________________________________________________________\n",
            "flatten_1 (Flatten)          (None, 12544)             0         \n",
            "_________________________________________________________________\n",
            "dense_2 (Dense)              (None, 128)               1605760   \n",
            "_________________________________________________________________\n",
            "dropout_3 (Dropout)          (None, 128)               0         \n",
            "_________________________________________________________________\n",
            "dense_3 (Dense)              (None, 8)                 1032      \n",
            "=================================================================\n",
            "Total params: 1,625,611\n",
            "Trainable params: 1,625,608\n",
            "Non-trainable params: 3\n",
            "_________________________________________________________________\n",
            "Epoch 1/30\n",
            "100/100 [==============================] - 2s 18ms/step - loss: 2.0673 - sparse_categorical_accuracy: 0.2012 - val_loss: 1.8920 - val_sparse_categorical_accuracy: 0.3338\n",
            "Epoch 2/30\n",
            "100/100 [==============================] - 2s 15ms/step - loss: 1.7659 - sparse_categorical_accuracy: 0.3531 - val_loss: 1.5566 - val_sparse_categorical_accuracy: 0.4988\n",
            "Epoch 3/30\n",
            "100/100 [==============================] - 2s 17ms/step - loss: 1.4355 - sparse_categorical_accuracy: 0.4847 - val_loss: 1.4311 - val_sparse_categorical_accuracy: 0.5512\n",
            "Epoch 4/30\n",
            "100/100 [==============================] - 2s 16ms/step - loss: 1.2509 - sparse_categorical_accuracy: 0.5567 - val_loss: 1.3805 - val_sparse_categorical_accuracy: 0.5763\n",
            "Epoch 5/30\n",
            "100/100 [==============================] - 2s 16ms/step - loss: 1.0876 - sparse_categorical_accuracy: 0.6164 - val_loss: 1.3175 - val_sparse_categorical_accuracy: 0.6100\n",
            "Epoch 6/30\n",
            "100/100 [==============================] - 2s 16ms/step - loss: 0.9721 - sparse_categorical_accuracy: 0.6540 - val_loss: 1.2913 - val_sparse_categorical_accuracy: 0.6525\n",
            "Epoch 7/30\n",
            "100/100 [==============================] - 1s 14ms/step - loss: 0.8818 - sparse_categorical_accuracy: 0.6851 - val_loss: 1.3130 - val_sparse_categorical_accuracy: 0.6625\n",
            "Epoch 8/30\n",
            "100/100 [==============================] - 1s 14ms/step - loss: 0.8254 - sparse_categorical_accuracy: 0.7082 - val_loss: 1.3692 - val_sparse_categorical_accuracy: 0.6612\n",
            "Epoch 9/30\n",
            "100/100 [==============================] - 1s 13ms/step - loss: 0.7408 - sparse_categorical_accuracy: 0.7378 - val_loss: 1.2591 - val_sparse_categorical_accuracy: 0.6950\n",
            "Epoch 10/30\n",
            "100/100 [==============================] - 1s 13ms/step - loss: 0.7011 - sparse_categorical_accuracy: 0.7568 - val_loss: 1.2280 - val_sparse_categorical_accuracy: 0.6975\n",
            "Epoch 11/30\n",
            "100/100 [==============================] - 1s 13ms/step - loss: 0.6709 - sparse_categorical_accuracy: 0.7716 - val_loss: 1.3345 - val_sparse_categorical_accuracy: 0.7013\n",
            "Epoch 12/30\n",
            "100/100 [==============================] - 1s 14ms/step - loss: 0.6138 - sparse_categorical_accuracy: 0.7813 - val_loss: 1.3040 - val_sparse_categorical_accuracy: 0.7188\n",
            "Epoch 13/30\n",
            "100/100 [==============================] - 1s 13ms/step - loss: 0.5837 - sparse_categorical_accuracy: 0.7919 - val_loss: 1.2479 - val_sparse_categorical_accuracy: 0.7188\n",
            "Epoch 14/30\n",
            "100/100 [==============================] - 1s 14ms/step - loss: 0.5458 - sparse_categorical_accuracy: 0.8096 - val_loss: 1.3658 - val_sparse_categorical_accuracy: 0.6925\n",
            "Epoch 15/30\n",
            "100/100 [==============================] - 2s 16ms/step - loss: 0.5397 - sparse_categorical_accuracy: 0.8086 - val_loss: 1.3992 - val_sparse_categorical_accuracy: 0.7300\n",
            "Epoch 16/30\n",
            "100/100 [==============================] - 1s 14ms/step - loss: 0.5011 - sparse_categorical_accuracy: 0.8265 - val_loss: 1.3569 - val_sparse_categorical_accuracy: 0.7400\n",
            "Epoch 17/30\n",
            "100/100 [==============================] - 1s 15ms/step - loss: 0.4815 - sparse_categorical_accuracy: 0.8292 - val_loss: 1.2649 - val_sparse_categorical_accuracy: 0.7262\n",
            "Epoch 18/30\n",
            "100/100 [==============================] - 2s 16ms/step - loss: 0.4551 - sparse_categorical_accuracy: 0.8411 - val_loss: 1.3397 - val_sparse_categorical_accuracy: 0.7200\n",
            "Epoch 19/30\n",
            "100/100 [==============================] - 2s 15ms/step - loss: 0.4372 - sparse_categorical_accuracy: 0.8467 - val_loss: 1.3562 - val_sparse_categorical_accuracy: 0.7337\n",
            "Epoch 20/30\n",
            "100/100 [==============================] - 1s 15ms/step - loss: 0.4437 - sparse_categorical_accuracy: 0.8479 - val_loss: 1.3389 - val_sparse_categorical_accuracy: 0.7375\n",
            "Epoch 21/30\n",
            "100/100 [==============================] - 2s 16ms/step - loss: 0.4277 - sparse_categorical_accuracy: 0.8551 - val_loss: 1.2045 - val_sparse_categorical_accuracy: 0.7487\n",
            "Epoch 22/30\n",
            "100/100 [==============================] - 2s 16ms/step - loss: 0.4233 - sparse_categorical_accuracy: 0.8538 - val_loss: 1.3967 - val_sparse_categorical_accuracy: 0.7487\n",
            "Epoch 23/30\n",
            "100/100 [==============================] - 2s 15ms/step - loss: 0.3824 - sparse_categorical_accuracy: 0.8689 - val_loss: 1.4417 - val_sparse_categorical_accuracy: 0.7462\n",
            "Epoch 24/30\n",
            "100/100 [==============================] - 2s 15ms/step - loss: 0.3960 - sparse_categorical_accuracy: 0.8635 - val_loss: 1.4671 - val_sparse_categorical_accuracy: 0.7462\n",
            "Epoch 25/30\n",
            "100/100 [==============================] - 1s 15ms/step - loss: 0.3661 - sparse_categorical_accuracy: 0.8701 - val_loss: 1.3507 - val_sparse_categorical_accuracy: 0.7475\n",
            "Epoch 26/30\n",
            "100/100 [==============================] - 2s 16ms/step - loss: 0.3595 - sparse_categorical_accuracy: 0.8791 - val_loss: 1.6120 - val_sparse_categorical_accuracy: 0.7375\n",
            "Epoch 27/30\n",
            "100/100 [==============================] - 2s 15ms/step - loss: 0.3358 - sparse_categorical_accuracy: 0.8818 - val_loss: 1.5225 - val_sparse_categorical_accuracy: 0.7462\n",
            "Epoch 28/30\n",
            "100/100 [==============================] - 2s 16ms/step - loss: 0.3264 - sparse_categorical_accuracy: 0.8845 - val_loss: 1.6176 - val_sparse_categorical_accuracy: 0.7412\n",
            "Epoch 29/30\n",
            "100/100 [==============================] - 2s 16ms/step - loss: 0.3234 - sparse_categorical_accuracy: 0.8921 - val_loss: 1.5885 - val_sparse_categorical_accuracy: 0.7350\n",
            "Epoch 30/30\n",
            "100/100 [==============================] - 1s 15ms/step - loss: 0.3109 - sparse_categorical_accuracy: 0.8919 - val_loss: 1.7954 - val_sparse_categorical_accuracy: 0.7337\n"
          ],
          "name": "stdout"
        }
      ]
    },
    {
      "cell_type": "code",
      "metadata": {
        "id": "VgqBuJr1kV73"
      },
      "source": [
        "def decode_audio(audio_binary):\n",
        "  audio, _ = tf.audio.decode_wav(audio_binary)\n",
        "  return tf.squeeze(audio, axis=-1)\n",
        "\n",
        "def get_label(file_path):\n",
        "  parts = tf.strings.split(file_path, os.path.sep)\n",
        "  # Note: You'll use indexing here instead of tuple unpacking to enable this \n",
        "  # to work in a TensorFlow graph.\n",
        "  return parts[-2]\n",
        "\n",
        "def get_waveform_and_label(file_path):\n",
        "  label = get_label(file_path)\n",
        "  audio_binary = tf.io.read_file(file_path)\n",
        "  waveform = decode_audio(audio_binary)\n",
        "  return waveform, label\n",
        "  \n",
        "AUTOTUNE = tf.data.AUTOTUNE\n",
        "files_ds = tf.data.Dataset.from_tensor_slices(train_files)\n",
        "waveform_ds = files_ds.map(get_waveform_and_label, num_parallel_calls=AUTOTUNE)"
      ],
      "execution_count": null,
      "outputs": []
    },
    {
      "cell_type": "code",
      "metadata": {
        "id": "HJddCmuGnY5X",
        "colab": {
          "base_uri": "https://localhost:8080/"
        },
        "outputId": "422584d2-bfb0-4e62-cd3f-ff55740405f2"
      },
      "source": [
        "for waveform, label in waveform_ds.take(1):\n",
        "  label = label.numpy().decode('utf-8')\n",
        "  spectrogram, label = audio_processor.spectrogram(waveform, label)\n",
        "\n",
        "print('Label:', label)\n",
        "print('Waveform shape:', waveform.shape)\n",
        "print('Spectrogram shape:', spectrogram.shape)"
      ],
      "execution_count": null,
      "outputs": [
        {
          "output_type": "stream",
          "text": [
            "Label: go\n",
            "Waveform shape: (16000,)\n",
            "Spectrogram shape: (129, 251)\n"
          ],
          "name": "stdout"
        }
      ]
    },
    {
      "cell_type": "code",
      "metadata": {
        "id": "ltqn-vCK2jAl"
      },
      "source": [
        ""
      ],
      "execution_count": null,
      "outputs": []
    },
    {
      "cell_type": "markdown",
      "metadata": {
        "id": "rX4QAFMoz5MZ"
      },
      "source": [
        "#2. Data pipeline"
      ]
    },
    {
      "cell_type": "markdown",
      "metadata": {
        "id": "2nWTDjNSnX27"
      },
      "source": [
        ""
      ]
    },
    {
      "cell_type": "code",
      "metadata": {
        "id": "hhvYL6kej6tr"
      },
      "source": [
        "# import data generator\n",
        "raw_data_path = 'EMODB/raw_data'\n",
        "train_ratio = 0.9\n",
        "val_ratio = 0.1\n",
        "block_span = 1 # second\n",
        "stride_span = 10 # millisecond\n",
        "res_freq = 16000\n",
        "random_seed = 10\n",
        "db_name = 'EMODB'\n",
        "\n",
        "data_handler = DataHandler(raw_data_path, train_ratio, val_ratio, \n",
        "                        res_freq, block_span, stride_span, random_seed,\n",
        "                        db_name)\n",
        "\n",
        "sample_freq = res_freq\n",
        "slice_span = 16 # millisecond\n",
        "overlap_ratio = 3/4\n",
        "n_mels = 64\n",
        "snr = 20\n",
        "audio_processor = AudioProcessor(sample_freq, slice_span, overlap_ratio, n_mels, snr)"
      ],
      "execution_count": null,
      "outputs": []
    },
    {
      "cell_type": "markdown",
      "metadata": {
        "id": "ONoUOV4-0jSi"
      },
      "source": [
        "Check spectrogram and mel-spectrogram"
      ]
    },
    {
      "cell_type": "code",
      "metadata": {
        "colab": {
          "base_uri": "https://localhost:8080/",
          "height": 282
        },
        "id": "mGATIhWc0-Jm",
        "outputId": "f1cda704-a28e-4f95-9ec6-da7c09551500"
      },
      "source": [
        "waveform, label = data_handler.get_waveform_and_label(r'C:\\Users\\57lzhang.US04WW4008\\PycharmProjects\\Speech_Emotion_Recognition\\EMODB\\data\\train\\1\\03a07La_160.wav')\n",
        "plt.plot(waveform)\n",
        "print(label)"
      ],
      "execution_count": null,
      "outputs": [
        {
          "output_type": "stream",
          "text": [
            "1\n"
          ],
          "name": "stdout"
        },
        {
          "output_type": "display_data",
          "data": {
            "text/plain": [
              "<Figure size 432x288 with 1 Axes>"
            ],
            "image/png": "[encoded data removed]"
          },
          "metadata": {
            "tags": [],
            "needs_background": "light"
          }
        }
      ]
    },
    {
      "cell_type": "code",
      "metadata": {
        "id": "TeAZh8fu0hz0"
      },
      "source": [
        "spectrogram, label = audio_processor.spectrogram(waveform, label)\n",
        "scaler = sklearn.preprocessing.StandardScaler()\n",
        "scaler.fit(spectrogram)\n",
        "print(scaler.mean_)\n",
        "normalized_spectrogram = ss.transform(spectrogram)\n",
        "librosa.display.specshow(normalized_spectrogram, sr=16000, hop_length=audio_processor.hop_length, x_axis='time', y_axis='linear');\n",
        "plt.colorbar();\n",
        "plt.title('Spectrogram')\n",
        "plt.show()"
      ],
      "execution_count": null,
      "outputs": []
    },
    {
      "cell_type": "code",
      "metadata": {
        "colab": {
          "base_uri": "https://localhost:8080/"
        },
        "id": "cvOtkrBB9Koa",
        "outputId": "0ae98b9d-f306-4266-aecf-c3eb8c28b530"
      },
      "source": [
        "spectrogram.shape"
      ],
      "execution_count": null,
      "outputs": [
        {
          "output_type": "execute_result",
          "data": {
            "text/plain": [
              "(129, 251)"
            ]
          },
          "metadata": {
            "tags": []
          },
          "execution_count": 55
        }
      ]
    },
    {
      "cell_type": "code",
      "metadata": {
        "colab": {
          "base_uri": "https://localhost:8080/"
        },
        "id": "iQyU-EO0Car6",
        "outputId": "77fc784f-5e84-4579-8105-d6942419062d"
      },
      "source": [
        "scaler.mean_.shape"
      ],
      "execution_count": null,
      "outputs": [
        {
          "output_type": "execute_result",
          "data": {
            "text/plain": [
              "(251,)"
            ]
          },
          "metadata": {
            "tags": []
          },
          "execution_count": 71
        }
      ]
    },
    {
      "cell_type": "code",
      "metadata": {
        "id": "WL2JChsJ361N"
      },
      "source": [
        "mel, label = audio_processor.mel_spectrogram(waveform, label)\n",
        "scaler = sklearn.preprocessing.StandardScaler()\n",
        "scaler.fit(mel)\n",
        "print(scaler.mean_)\n",
        "normalized_mel = ss.transform(mel)\n",
        "librosa.display.specshow(normalized_mel, sr=16000, hop_length=audio_processor.hop_length, x_axis='time', y_axis='linear');\n",
        "plt.colorbar();\n",
        "plt.title('Mel')\n",
        "plt.show()"
      ],
      "execution_count": null,
      "outputs": []
    },
    {
      "cell_type": "markdown",
      "metadata": {
        "id": "liUcAM7hw1fO"
      },
      "source": [
        "##Training"
      ]
    },
    {
      "cell_type": "code",
      "metadata": {
        "colab": {
          "base_uri": "https://localhost:8080/"
        },
        "id": "bbWS6PrLe1MQ",
        "outputId": "ca012db6-2da5-4195-8584-c4e700bd130d"
      },
      "source": [
        "sample_data = np.random.rand((block_span*res_freq))\n",
        "sample_mel, _ = audio_processor.mel_spectrogram(sample_data, 1)\n",
        "sample_mel = np.expand_dims(sample_mel, -1)\n",
        "input_shape = sample_mel.shape\n",
        "print(input_shape)\n",
        "\n",
        "batch_size = 64\n",
        "epochs = 100\n",
        "train_filenames, train_num_samples = data_handler.get_filenames('data/train')\n",
        "val_filenames, val_num_samples = data_handler.get_filenames('data/val')\n",
        "\n",
        "def preprocess_dataset(files):\n",
        "  files_ds = tf.data.Dataset.from_tensor_slices(files)\n",
        "  output_ds = files_ds.map(data_handler.get_waveform_and_label, num_parallel_calls=tf.data.AUTOTUNE)\n",
        "  output_ds = output_ds.map(audio_processor.get_mel_tensor, num_parallel_calls=tf.data.AUTOTUNE)\n",
        "  return output_ds\n",
        "\n",
        "train_ds = preprocess_dataset(train_filenames)\n",
        "val_ds = preprocess_dataset(val_filenames)\n",
        "train_ds = train_ds.batch(batch_size)\n",
        "val_ds = val_ds.batch(batch_size)\n",
        "train_ds = train_ds.cache().prefetch(tf.data.AUTOTUNE)\n",
        "val_ds = val_ds.cache().prefetch(tf.data.AUTOTUNE)\n",
        "\n",
        "## early stop\n",
        "early_stop = tf.keras.callbacks.EarlyStopping(monitor='val_loss',\n",
        "                                                patience=20,\n",
        "                                                restore_best_weights=True)\n",
        "## learning rate decay callback\n",
        "lr_schedule = tf.keras.callbacks.LearningRateScheduler(decay)\n",
        "callback_list = [early_stop, lr_schedule]"
      ],
      "execution_count": null,
      "outputs": [
        {
          "output_type": "stream",
          "text": [
            "(64, 251, 1)\n",
            "Number of total examples: 80508\n",
            "Example file tensor: tf.Tensor(b'data\\\\train\\\\4\\\\03-01-05-02-01-02-16_3840.wav', shape=(), dtype=string)\n",
            "Number of total examples: 9362\n",
            "Example file tensor: tf.Tensor(b'data\\\\val\\\\2\\\\03-01-03-02-01-02-08_0.wav', shape=(), dtype=string)\n"
          ],
          "name": "stdout"
        }
      ]
    },
    {
      "cell_type": "code",
      "metadata": {
        "id": "Gw_NLOvhNv_6"
      },
      "source": [
        "model = MobileNet(input_shape=input_shape, classes=8)\n",
        "model.summary()\n",
        "model.compile(optimizer=tf.keras.optimizers.Adam(),\n",
        "                loss=tf.keras.losses.CategoricalCrossentropy(from_logits=False),\n",
        "                metrics=[tf.keras.metrics.CategoricalAccuracy()])\n",
        "history = model.fit(train_ds,\n",
        "                    epochs=epochs,\n",
        "                    validation_data=val_ds,\n",
        "                    verbose=1,\n",
        "                    callbacks=callback_list\n",
        "                    )"
      ],
      "execution_count": null,
      "outputs": []
    },
    {
      "cell_type": "markdown",
      "metadata": {
        "id": "HwB5uScbEOYU"
      },
      "source": [
        "##visualize the preprocessing"
      ]
    },
    {
      "cell_type": "code",
      "metadata": {
        "id": "ZLBPh3nSk5U6"
      },
      "source": [
        "train_gen = train_data_generator()\n",
        "testing_data = next(train_gen)[0]\n",
        "\n",
        "spec = audio_processor.spectrogram(testing_data)\n",
        "librosa.display.specshow(spec, sr=sample_freq, x_axis='time', y_axis='linear');\n",
        "plt.colorbar();\n",
        "plt.title('Spectrogram')\n",
        "plt.show()\n",
        "\n",
        "\n",
        "mel_spec = audio_processor.mel_spectrogram(testing_data)\n",
        "librosa.display.specshow(mel_spec, sr=sample_freq, x_axis='time', y_axis='linear');\n",
        "plt.colorbar();\n",
        "plt.title('Mel Spectrogram')\n",
        "plt.show()"
      ],
      "execution_count": null,
      "outputs": []
    },
    {
      "cell_type": "code",
      "metadata": {
        "id": "_y8a9Uz59f-4"
      },
      "source": [
        ""
      ],
      "execution_count": null,
      "outputs": []
    }
  ]
}