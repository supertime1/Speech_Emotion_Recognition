{
  "nbformat": 4,
  "nbformat_minor": 0,
  "metadata": {
    "colab": {
      "name": "SER.ipynb",
      "provenance": [],
      "collapsed_sections": [],
      "machine_shape": "hm",
      "mount_file_id": "166O_5dPfinB_plh6m5TFWPKTAeMRj4xF",
      "authorship_tag": "ABX9TyP+gABXL2uo4al0JqsUUGbL",
      "include_colab_link": true
    },
    "kernelspec": {
      "name": "python3",
      "display_name": "Python 3"
    },
    "language_info": {
      "name": "python"
    },
    "accelerator": "GPU"
  },
  "cells": [
    {
      "cell_type": "markdown",
      "metadata": {
        "id": "view-in-github",
        "colab_type": "text"
      },
      "source": [
        "<a href=\"https://colab.research.google.com/github/supertime1/Speech_Emotion_Recognition/blob/main/SER.ipynb\" target=\"_parent\"><img src=\"https://colab.research.google.com/assets/colab-badge.svg\" alt=\"Open In Colab\"/></a>"
      ]
    },
    {
      "cell_type": "code",
      "metadata": {
        "id": "YNm1UyJzjo9T"
      },
      "source": [
        "import os\n",
        "os.chdir('C:/Users/57lzhang.US04WW4008/PycharmProjects/Speech_Emotion_Recognition')\n",
        "from data_handler import *\n",
        "from audio_processor import AudioProcessor\n",
        "import tensorflow as tf\n",
        "import librosa.display\n",
        "import matplotlib.pyplot as plt\n",
        "import sklearn\n",
        "from model.model_util import *\n",
        "from tensorflow.keras import Model\n",
        "from tensorflow.keras.layers import Conv2D, Conv1D, BatchNormalization, Input, Add, Activation, \\\n",
        "    MaxPooling1D, Dropout, Flatten, TimeDistributed, Bidirectional, Dense, LSTM, ZeroPadding1D, \\\n",
        "    AveragePooling1D, GlobalAveragePooling1D, Concatenate, Permute, Dot, Multiply, RepeatVector, \\\n",
        "    Lambda, Average, GlobalAveragePooling2D, DepthwiseConv2D, MaxPooling2D, ZeroPadding2D"
      ],
      "execution_count": 5,
      "outputs": []
    },
    {
      "cell_type": "code",
      "metadata": {
        "id": "LgbXiOYG8dJe",
        "colab": {
          "base_uri": "https://localhost:8080/"
        },
        "outputId": "4dd059b4-c1e6-446a-ccc4-df94332c1761"
      },
      "source": [
        " ##to overwrite NCCL cross device communication as this is running in Windows\n",
        "strategy = tf.distribute.MirroredStrategy(cross_device_ops=tf.distribute.HierarchicalCopyAllReduce())\n"
      ],
      "execution_count": 4,
      "outputs": [
        {
          "output_type": "stream",
          "text": [
            "INFO:tensorflow:Using MirroredStrategy with devices ('/job:localhost/replica:0/task:0/device:GPU:0', '/job:localhost/replica:0/task:0/device:GPU:1')\n"
          ],
          "name": "stdout"
        }
      ]
    },
    {
      "cell_type": "code",
      "metadata": {
        "id": "hhvYL6kej6tr"
      },
      "source": [
        "# import data generator\n",
        "raw_data_path = 'raw_data'\n",
        "train_ratio = 0.9\n",
        "val_ratio = 0.2\n",
        "block_span = 1 # second\n",
        "stride_span = 30 # millisecond\n",
        "res_freq = 16000\n",
        "random_seed = 10\n",
        "\n",
        "data_handler = DataHandler(raw_data_path, train_ratio, val_ratio, \n",
        "                        res_freq, block_span, stride_span, random_seed)\n",
        "\n",
        "sample_freq = res_freq\n",
        "slice_span = 16 # millisecond\n",
        "overlap_ratio = 3/4\n",
        "n_mels = 64\n",
        "snr = 20\n",
        "audio_processor = AudioProcessor(sample_freq, slice_span, overlap_ratio, n_mels, snr)"
      ],
      "execution_count": 2,
      "outputs": []
    },
    {
      "cell_type": "markdown",
      "metadata": {
        "id": "liUcAM7hw1fO"
      },
      "source": [
        "##Training"
      ]
    },
    {
      "cell_type": "code",
      "metadata": {
        "id": "gfibT1OiI0lK"
      },
      "source": [
        "def simple_cnn(input_shape=None, dropout=0.2, classes=8):\n",
        "    signal_input = Input(shape=input_shape)\n",
        "\n",
        "    # 1st Conv2D\n",
        "    x = Conv2D(8, (1, 1), strides=(1, 1), activation='relu')(signal_input)\n",
        "    x = BatchNormalization()(x)\n",
        "    x = MaxPooling2D(pool_size=(2, 2), strides=(2, 2))(x)\n",
        "\n",
        "    # 2nd Conv2D\n",
        "    x = Conv2D(16, (3, 3), strides=(1, 1), activation='relu')(x)\n",
        "    x = BatchNormalization()(x)\n",
        "    x = MaxPooling2D(pool_size=(2, 2), strides=(1, 1))(x)\n",
        "\n",
        "    # 3rd Conv2D\n",
        "    x = Conv2D(32, (3, 3), strides=(1, 1), activation='relu')(x)\n",
        "    x = BatchNormalization()(x)\n",
        "    x = MaxPooling2D(pool_size=(2, 2), strides=(1, 1))(x)\n",
        "\n",
        "    # 4th Conv2D\n",
        "    x = Conv2D(64, (3, 3), strides=(1, 1), activation='relu')(x)\n",
        "    x = BatchNormalization()(x)\n",
        "    x = MaxPooling2D(pool_size=(2, 2), strides=(1, 1))(x)\n",
        "\n",
        "    # 5th Conv2D\n",
        "    x = Conv2D(16, (1, 1), strides=(1, 1), activation='relu')(x)\n",
        "    # Full connection layer\n",
        "    x = Flatten()(x)\n",
        "\n",
        "    x = Dense(32, activation='relu')(x)\n",
        "    x = BatchNormalization()(x)\n",
        "    x = Dropout(dropout)(x)\n",
        "    out = Dense(classes, activation='softmax')(x)\n",
        "    model = Model(signal_input, out, name='cnn')\n",
        "\n",
        "    return model"
      ],
      "execution_count": 12,
      "outputs": []
    },
    {
      "cell_type": "code",
      "metadata": {
        "colab": {
          "base_uri": "https://localhost:8080/"
        },
        "id": "bbWS6PrLe1MQ",
        "outputId": "b76b1ccd-45dc-4669-b969-701fefb8fe84"
      },
      "source": [
        "sample_data = np.random.rand((block_span*res_freq))\n",
        "sample_mel, _ = audio_processor.mel_spectrogram(sample_data, 1)\n",
        "sample_mel = np.expand_dims(sample_mel, -1)\n",
        "input_shape = sample_mel.shape\n",
        "print(input_shape)\n",
        "\n",
        "batch_size = 64\n",
        "epochs = 100\n",
        "train_filenames, train_num_samples = data_handler.get_filenames('data/train')\n",
        "val_filenames, val_num_samples = data_handler.get_filenames('data/val')\n",
        "\n",
        "def preprocess_dataset(files):\n",
        "  files_ds = tf.data.Dataset.from_tensor_slices(files)\n",
        "  output_ds = files_ds.map(data_handler.get_waveform_and_label, num_parallel_calls=tf.data.AUTOTUNE)\n",
        "  output_ds = output_ds.map(audio_processor.get_mel_tensor, num_parallel_calls=tf.data.AUTOTUNE)\n",
        "  return output_ds\n",
        "\n",
        "train_ds = preprocess_dataset(train_filenames)\n",
        "val_ds = preprocess_dataset(val_filenames)\n",
        "train_ds = train_ds.batch(batch_size)\n",
        "val_ds = val_ds.batch(batch_size)\n",
        "train_ds = train_ds.cache().prefetch(tf.data.AUTOTUNE)\n",
        "val_ds = val_ds.cache().prefetch(tf.data.AUTOTUNE)\n",
        "\n",
        "## early stop\n",
        "early_stop = tf.keras.callbacks.EarlyStopping(monitor='val_loss',\n",
        "                                                patience=20,\n",
        "                                                restore_best_weights=True)\n",
        "## learning rate decay callback\n",
        "lr_schedule = tf.keras.callbacks.LearningRateScheduler(decay)\n",
        "callback_list = [early_stop, lr_schedule]"
      ],
      "execution_count": 8,
      "outputs": [
        {
          "output_type": "stream",
          "text": [
            "(64, 251, 1)\n",
            "Number of total examples: 80508\n",
            "Example file tensor: tf.Tensor(b'data\\\\train\\\\0\\\\03-01-01-01-01-01-21_10080.wav', shape=(), dtype=string)\n",
            "Number of total examples: 9362\n",
            "Example file tensor: tf.Tensor(b'data\\\\val\\\\5\\\\03-01-06-02-02-01-11_14400.wav', shape=(), dtype=string)\n"
          ],
          "name": "stdout"
        }
      ]
    },
    {
      "cell_type": "code",
      "metadata": {
        "id": "Gw_NLOvhNv_6",
        "colab": {
          "base_uri": "https://localhost:8080/"
        },
        "outputId": "a3030005-df98-4fe8-a672-a4a88f5a0c4e"
      },
      "source": [
        "model = simple_cnn(input_shape=input_shape, classes=8, dropout=0.5)\n",
        "\n",
        "model.compile(optimizer=tf.keras.optimizers.Adam(),\n",
        "                loss=tf.keras.losses.CategoricalCrossentropy(from_logits=False),\n",
        "                metrics=[tf.keras.metrics.CategoricalAccuracy()])\n",
        "history = model.fit(train_ds,\n",
        "                    epochs=epochs,\n",
        "                    validation_data=val_ds,\n",
        "                    verbose=1,\n",
        "                    callbacks=callback_list\n",
        "                    )"
      ],
      "execution_count": null,
      "outputs": [
        {
          "output_type": "stream",
          "text": [
            "Epoch 1/100\n",
            " 929/1258 [=====================>........] - ETA: 2:40 - loss: 0.8189 - categorical_accuracy: 0.7431"
          ],
          "name": "stdout"
        }
      ]
    },
    {
      "cell_type": "markdown",
      "metadata": {
        "id": "HwB5uScbEOYU"
      },
      "source": [
        "##visualize the preprocessing"
      ]
    },
    {
      "cell_type": "code",
      "metadata": {
        "id": "ZLBPh3nSk5U6"
      },
      "source": [
        "train_gen = train_data_generator()\n",
        "testing_data = next(train_gen)[0]\n",
        "\n",
        "spec = audio_processor.spectrogram(testing_data)\n",
        "librosa.display.specshow(spec, sr=sample_freq, x_axis='time', y_axis='linear');\n",
        "plt.colorbar();\n",
        "plt.title('Spectrogram')\n",
        "plt.show()\n",
        "\n",
        "\n",
        "mel_spec = audio_processor.mel_spectrogram(testing_data)\n",
        "librosa.display.specshow(mel_spec, sr=sample_freq, x_axis='time', y_axis='linear');\n",
        "plt.colorbar();\n",
        "plt.title('Mel Spectrogram')\n",
        "plt.show()"
      ],
      "execution_count": null,
      "outputs": []
    },
    {
      "cell_type": "code",
      "metadata": {
        "id": "_y8a9Uz59f-4"
      },
      "source": [
        ""
      ],
      "execution_count": null,
      "outputs": []
    }
  ]
}